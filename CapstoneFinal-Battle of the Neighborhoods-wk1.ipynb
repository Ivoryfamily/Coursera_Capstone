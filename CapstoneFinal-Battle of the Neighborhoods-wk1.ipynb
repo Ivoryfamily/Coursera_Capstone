{
    "cells": [
        {
            "cell_type": "markdown",
            "metadata": {
                "collapsed": true
            },
            "source": "# Capstone Final Project-Battle of the Neighborhoods-wk1\nBy Lian Wang\n\nJuly 2020"
        },
        {
            "cell_type": "markdown",
            "metadata": {},
            "source": "## Table of contents\n\n* [Introduction](#Introduction)\n* [Data](#Data)\n* [Methodology](#Methodology)\n* [Results](#Results)\n* [Discussions](#Discussions)\n* [Conclusions](#Conclusions)\n"
        },
        {
            "cell_type": "markdown",
            "metadata": {},
            "source": "## Introduction <a name=Introduction></a>"
        },
        {
            "cell_type": "markdown",
            "metadata": {},
            "source": "In this age of convenient and efficient tranportation means, travelling around the world becomes easier and more common. In fact, people relocate around the world more often too with the globalization trend. \n\nWhen people move from one city to another, it is common to simply pick an area/neighborhood near work/school first, then move to a different area/neighbor if desired after settling down a bit. Moving, sometimes several times, isn't unusual in this scenario. It is obviously not an optimal process since we are only gathering limited/scattered information either via word of mouth or checking out a few nearby areas in person. Also, it would seem better to reasearch the new city and compare it to the city we currently live in to identify areas that might be a good fit for us in the new city, in advance. It would potentially minimize the need or frequency of relocations, which is a big hassle for those relocating with a family.\n\nHowever, most of the times, efforts to research a new city only offer the city-level information, for example, population, histories, economic condition, climates, etc. It gives the overall picture of the city, which is more useful for tourists but not for selecting an area for living. For the latter, it will be more helpful to glean and compare neighborhood-level details that affect the day-to-day living.\n\nIn this project, we intend to take advantage of the rich location data provided by platforms like **Foursquare** and the power of machine learning to undertake comparisons of neighborhoods in two cities, using New York City and Toronto as the example. As described above, applications like this could be helpful for people who need to relocate to a new city or people choosing between cities for their next chapter in life.\n\n\n"
        },
        {
            "cell_type": "markdown",
            "metadata": {},
            "source": "### Data <a name=Data></a>"
        },
        {
            "cell_type": "markdown",
            "metadata": {},
            "source": "In order to use the **Foursquare** platform to gather neighborhood venue information, we need data that contains the neighborhoods exist in each city as well as the latitude and logitude coordinates of each neighborhood. \n\nFor New York city, this data had been compiled and exists in one file at https://cocl.us/new_york_dataset for this IBM course. The original source of this data is from https://geo.nyu.edu/catalog/nyu_2451_34572.\n\nFor Toronto, the list of neighborhood and corresponding postal code will be scraped from this Wikipedia page https://en.wikipedia.org/wiki/List_of_postal_codes_of_Canada:_M. Even though we could use geocoder Python package to retrieve the geographical location data based on postal codes, this package is unreliable (could get stuck in the process for unreasonably long time if using a while loop to ensure getting a result for each postal code). So, we will use the csv file containing the geographical location data for each of the postal code in Toronto that is provided for this IBM course at http://cocl.us/Geospatial_data.\n\nOnce we have the neighborhood data with the appropriate geographical data for both cities, we will then use the **Foursquare API** to retrieve the venues infromation within a certain range of the rarius (say, 500 or 1000 meters) for each neighborhood. Service and activitiy venues, nearby within a neighborhood, are characteristics of a neighborhood and reflect the convenience and life style of people living in the area. Hence, quantifying these venues into categories and the associagted venue counts are meaningful features to use for classifying neighborhoods into clusters/groups. Because our purpose is to compare the two cities, we will compile a combined data set for clustering analysis based on neighborhood venue features, and then examine the distribution of the clusters/groups between the two cities.\n\n"
        },
        {
            "cell_type": "markdown",
            "metadata": {},
            "source": "### Methodology <a name=Methodology></a>"
        },
        {
            "cell_type": "markdown",
            "metadata": {},
            "source": "We will first install packages and load the necessary libraries."
        },
        {
            "cell_type": "code",
            "execution_count": null,
            "metadata": {},
            "outputs": [],
            "source": "import numpy as np # library to handle data in a vectorized manner\n\nimport pandas as pd # library for data analsysis\npd.set_option('display.max_columns', None)\npd.set_option('display.max_rows', None)\n\nimport json # library to handle JSON files\n\n!conda install -c conda-forge geopy --yes # uncomment this line once installed\nfrom geopy.geocoders import Nominatim # convert an address into latitude and longitude values\n\nimport requests # library to handle requests\nfrom pandas.io.json import json_normalize # tranform JSON file into a pandas dataframe\n#from pandas import json_normalize # for a newer Python version?\n\n# Matplotlib and associated plotting modules\nimport matplotlib.cm as cm\nimport matplotlib.colors as colors\nimport matplotlib.pyplot as plt\n\nimport seaborn as sns\n\n# import k-means from clustering stage\nfrom sklearn.cluster import KMeans\n\n!conda install -c conda-forge folium=0.5.0 --yes # uncomment this line once installed\nimport folium # map rendering library\n\nprint('Libraries imported.')"
        },
        {
            "cell_type": "markdown",
            "metadata": {},
            "source": "### Load and extract neighborhood data for New York City"
        },
        {
            "cell_type": "code",
            "execution_count": null,
            "metadata": {},
            "outputs": [],
            "source": "!wget -q -O 'newyork_data.json' https://cocl.us/new_york_dataset\nprint('Data downloaded!')\n\nwith open('newyork_data.json') as json_data:\n    newyork_data = json.load(json_data)\n    \nneighborhoods_data = newyork_data['features']\n\n# define the dataframe columns\ncolumn_names = ['Borough', 'Neighborhood', 'Latitude', 'Longitude'] \n\n# instantiate the dataframe\nneighborhoods = pd.DataFrame(columns=column_names)\n\nfor data in neighborhoods_data:\n    borough = data['properties']['borough'] # \n    neighborhood_name = data['properties']['name']\n        \n    neighborhood_latlon = data['geometry']['coordinates']\n    neighborhood_lat = neighborhood_latlon[1]\n    neighborhood_lon = neighborhood_latlon[0]\n    \n    neighborhoods = neighborhoods.append({'Borough': borough,\n                                          'Neighborhood': neighborhood_name,\n                                          'Latitude': neighborhood_lat,\n                                          'Longitude': neighborhood_lon}, ignore_index=True)\n    \nneighborhoods.head()"
        },
        {
            "cell_type": "code",
            "execution_count": null,
            "metadata": {},
            "outputs": [],
            "source": "address = 'New York City, NY'\n\ngeolocator = Nominatim(user_agent=\"ny_explorer\")\nlocation = geolocator.geocode(address)\nlatitude = location.latitude\nlongitude = location.longitude\nprint('The geograpical coordinate of New York City are {}, {}.'.format(latitude, longitude))"
        },
        {
            "cell_type": "code",
            "execution_count": null,
            "metadata": {},
            "outputs": [],
            "source": "# create map of New York using latitude and longitude values\nmap_newyork = folium.Map(location=[latitude, longitude], zoom_start=10)\n\n# add markers to map\nfor lat, lng, borough, neighborhood in zip(neighborhoods['Latitude'], neighborhoods['Longitude'], neighborhoods['Borough'], neighborhoods['Neighborhood']):\n    label = '{}, {}'.format(neighborhood, borough)\n    label = folium.Popup(label, parse_html=True)\n    folium.CircleMarker(\n        [lat, lng],\n        radius=5,\n        popup=label,\n        color='blue',\n        fill=True,\n        fill_color='#3186cc',\n        fill_opacity=0.7,\n        parse_html=False).add_to(map_newyork)  \n    \nmap_newyork"
        },
        {
            "cell_type": "markdown",
            "metadata": {},
            "source": "### Load and create neighborhood data for Toronto"
        },
        {
            "cell_type": "markdown",
            "metadata": {},
            "source": "### Using Foursquare API to retrieve the venues data for neighborhoods"
        },
        {
            "cell_type": "markdown",
            "metadata": {},
            "source": "### Results and Discussions <a name=Results></a>"
        },
        {
            "cell_type": "markdown",
            "metadata": {},
            "source": "### Discussions <a name=Discussions><a/>"
        },
        {
            "cell_type": "markdown",
            "metadata": {},
            "source": "### Conclusions<a name=Conclusions><a/>"
        }
    ],
    "metadata": {
        "kernelspec": {
            "display_name": "Python 3.6",
            "language": "python",
            "name": "python3"
        },
        "language_info": {
            "codemirror_mode": {
                "name": "ipython",
                "version": 3
            },
            "file_extension": ".py",
            "mimetype": "text/x-python",
            "name": "python",
            "nbconvert_exporter": "python",
            "pygments_lexer": "ipython3",
            "version": "3.6.9"
        }
    },
    "nbformat": 4,
    "nbformat_minor": 1
}